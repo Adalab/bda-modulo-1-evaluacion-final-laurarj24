{
 "cells": [
  {
   "cell_type": "code",
   "execution_count": 2,
   "metadata": {},
   "outputs": [
    {
     "name": "stdout",
     "output_type": "stream",
     "text": [
      "Este producto no esta en nuestro inventario, lo añadimos\n",
      "El inventario actualizado es => [{'nombre': 'pantalon', 'precio': 400, 'cantidad': 5}]\n",
      "Este producto no esta en nuestro inventario, lo añadimos\n",
      "El inventario actualizado es => [{'nombre': 'pantalon', 'precio': 400, 'cantidad': 5}, {'nombre': 'camisa', 'precio': 20, 'cantidad': 6}]\n",
      "elemento ya en inventario, modifico cantidad\n",
      "El inventario actualizado es => [{'nombre': 'pantalon', 'precio': 400, 'cantidad': 14}, {'nombre': 'camisa', 'precio': 20, 'cantidad': 6}]\n"
     ]
    }
   ],
   "source": [
    "                 \n",
    "ropa = TiendzaOnline() # instanciamos un objeto llamado ropa asociado a la clase TiendaOnline()\n",
    "\n",
    "# Agrego pantalon y camisa, vemos como en pantalla se imprimen los datos de inventario con los productos agregados\n",
    "ropa.agregar_producto ('pantalon',400,5) # para agregar un elemento es necesario su nombre, precio y cantidad\n",
    "ropa.agregar_producto ('camisa',20,6) \n",
    "\n",
    "# Trato de agregar pantalón, aunque es un producto que ya existe en el inventario por lo se actualiza la cantidad 5 + 9 = 14\n",
    "ropa.agregar_producto ('pantalon',47,9)"
   ]
  },
  {
   "cell_type": "code",
   "execution_count": 3,
   "metadata": {},
   "outputs": [
    {
     "name": "stdout",
     "output_type": "stream",
     "text": [
      "Nombre : pantalon\n",
      "Precio : 400\n",
      "Cantidad : 14\n",
      "Nombre : camisa\n",
      "Precio : 20\n",
      "Cantidad : 6\n"
     ]
    }
   ],
   "source": [
    "# Ejecutamos el metodo para que nos muestre el inventario de nuestra TiendaOnline\n",
    "ropa.ver_inventario()"
   ]
  },
  {
   "cell_type": "code",
   "execution_count": 4,
   "metadata": {},
   "outputs": [
    {
     "name": "stdout",
     "output_type": "stream",
     "text": [
      "Nombre : pantalon\n",
      "Precio : 400\n",
      "Cantidad : 14\n",
      "Producto no encontrado\n"
     ]
    }
   ],
   "source": [
    "ropa.buscar_producto(\"pantalon\") # cuando buscamos pantalon lo encuentra y nos muestra su precio y cantidad\n",
    "ropa.buscar_producto(\"calcetines\") #cuando buscamos calcetines, como no lo encuentra nos muestra un mensaje: Producto no encontrado. "
   ]
  },
  {
   "cell_type": "code",
   "execution_count": 5,
   "metadata": {},
   "outputs": [
    {
     "name": "stdout",
     "output_type": "stream",
     "text": [
      "Producto ya está en inventario, actualizamos su stock, el stock de este producto actualizado es {'nombre': 'camisa', 'precio': 20, 'cantidad': 8}\n",
      "El producto no se encuentra en nuestro inventario\n"
     ]
    }
   ],
   "source": [
    "ropa.actualizar_stock('camisa',2) # Tratamos de añadir 2 camisas a nuestro inventario, como sí que hay camisas, nos suma la cantidad\n",
    "ropa.actualizar_stock('calcetines',4) # En cambio, al intentar añadir 4 calcetines al inventario solo imprime mensaje notificando que no tenemos calcetines. \n",
    "    "
   ]
  },
  {
   "cell_type": "code",
   "execution_count": 6,
   "metadata": {},
   "outputs": [
    {
     "name": "stdout",
     "output_type": "stream",
     "text": [
      "Elemento pantalon correctamente eliminado, el inventario actualizado es [{'nombre': 'camisa', 'precio': 20, 'cantidad': 8}]\n",
      "El producto no se encuentra en nuestro inventario\n"
     ]
    }
   ],
   "source": [
    "\n",
    "ropa.eliminar_producto(\"pantalon\") # eliminamos pantalon, se imprime producto eliminado y inventario actualizado\n",
    "ropa.eliminar_producto(\"calcetines\")  # al tratar de eliminar un producto que no existe nos muestra mensaje diciendonos que no lo tenemos. "
   ]
  },
  {
   "cell_type": "code",
   "execution_count": 7,
   "metadata": {},
   "outputs": [
    {
     "name": "stdout",
     "output_type": "stream",
     "text": [
      "Este producto no esta en nuestro inventario, lo añadimos\n",
      "El inventario actualizado es => [{'nombre': 'camisa', 'precio': 20, 'cantidad': 8}, {'nombre': 'blusa', 'precio': 5, 'cantidad': 10}]\n",
      "Nombre : camisa\n",
      "Precio : 20\n",
      "Cantidad : 8\n",
      "Nombre : blusa\n",
      "Precio : 5\n",
      "Cantidad : 10\n",
      "160\n",
      "50\n",
      "El valor de nuestro inventario actual es 210 euros\n"
     ]
    }
   ],
   "source": [
    "ropa.agregar_producto (\"blusa\", 5, 10)   # agrego otro elemento porque elimine camisa con el metodo anteior\n",
    "ropa.ver_inventario() # imprimo el inventario actual para que sea más facil comprobar si el metodo siguiente es correcto\n",
    "ropa.calcular_valor_inventario() \n",
    "# el valor total del inventario es valor de las camisas (20*8 = 160) + el valor de las blusas (5*10 = 50), 160+50 = 210\n"
   ]
  },
  {
   "cell_type": "code",
   "execution_count": 8,
   "metadata": {},
   "outputs": [
    {
     "name": "stdout",
     "output_type": "stream",
     "text": [
      "------------- Stock actual:  [{'nombre': 'camisa', 'precio': 20, 'cantidad': 8}, {'nombre': 'blusa', 'precio': 5, 'cantidad': 10}]\n",
      "Has seleccionado Camisa\n",
      "Has seleccionado 3 unidades\n",
      "------------- Stock actual:  [{'nombre': 'camisa', 'precio': 20, 'cantidad': 5}, {'nombre': 'blusa', 'precio': 5, 'cantidad': 10}]\n",
      "Has seleccionado blusa\n",
      "Has seleccionado 3 unidades\n",
      "------------- Stock actual:  [{'nombre': 'camisa', 'precio': 20, 'cantidad': 5}, {'nombre': 'blusa', 'precio': 5, 'cantidad': 7}]\n",
      "Has seleccionado fin\n",
      "tu carrito actual es [{'producto': 'Camisa', 'cantidad': 3, 'coste': 60}, {'producto': 'blusa', 'cantidad': 3, 'coste': 15}]\n",
      "El coste total de tu compra asciende a 75 euros\n",
      "Pago realizado correctamente, tu cambio es -25.0 euros\n"
     ]
    }
   ],
   "source": [
    "[coste,carrito] = ropa.realizar_compra() \n",
    "datos = [coste,carrito] \n",
    "# extraigo el coste y carrito que nos devuelve realizar comprar para poder reutilizarlo al procesar el pago\n",
    "ropa.procesar_pago(coste) # ejecutamos el metodo procesar pago(coste) con el coste pendiente despues de realizar el metodo realizar_compra()"
   ]
  },
  {
   "cell_type": "code",
   "execution_count": 9,
   "metadata": {},
   "outputs": [
    {
     "name": "stdout",
     "output_type": "stream",
     "text": [
      "{'Laura Romero': {'e-mail': 'lromerovet@gmail.com'}}\n",
      "{'Laura Romero': {'e-mail': 'lromerovet@gmail.com'}, 'Elena Perez': {'e-mail': 'elena1489_68sklhj@hotmail.com'}}\n",
      "Lo siento, el email introducido tiene un formato incorrecto\n",
      "{'Laura Romero': {'e-mail': 'lromerovet@gmail.com'}, 'Elena Perez': {'e-mail': 'elena1489_68sklhj@hotmail.com'}}\n",
      "Lo siento, el email introducido tiene un formato incorrecto\n",
      "{'Laura Romero': {'e-mail': 'lromerovet@gmail.com'}, 'Elena Perez': {'e-mail': 'elena1489_68sklhj@hotmail.com'}}\n"
     ]
    }
   ],
   "source": [
    "# agrego 2 clientes con Datos + mail, con formato adecuado, y compruebo que la lista clientes ya tiene estos 2 clientes registrados\n",
    "ropa.agregar_clientes(\"Laura Romero\", \"lromerovet@gmail.com\")\n",
    "ropa.agregar_clientes (\"Elena Perez\", \"elena1489_68sklhj@hotmail.com\")\n",
    "\n",
    "# compruebo que al intentar meter un cliente con formato incorrecto de mail no me lo agrega a la lista. \n",
    "ropa.agregar_clientes(\"Pepito Perez\", \"pepito.com\")\n",
    "ropa.agregar_clientes(\"Pepito Perez\", \"pepito@com\")\n",
    "\n"
   ]
  },
  {
   "cell_type": "code",
   "execution_count": 10,
   "metadata": {},
   "outputs": [
    {
     "name": "stdout",
     "output_type": "stream",
     "text": [
      "NOMBRE CLIENTE => Laura Romero, EMAIL => {'e-mail': 'lromerovet@gmail.com'}\n",
      "NOMBRE CLIENTE => Elena Perez, EMAIL => {'e-mail': 'elena1489_68sklhj@hotmail.com'}\n"
     ]
    }
   ],
   "source": [
    "ropa.ver_clientes()"
   ]
  },
  {
   "cell_type": "code",
   "execution_count": 11,
   "metadata": {},
   "outputs": [
    {
     "name": "stdout",
     "output_type": "stream",
     "text": [
      "ESTE ES MI CARRITO =>  [{'producto': 'Camisa', 'cantidad': 3, 'coste': 60}, {'producto': 'blusa', 'cantidad': 3, 'coste': 15}]\n"
     ]
    },
    {
     "ename": "AttributeError",
     "evalue": "'list' object has no attribute 'update'",
     "output_type": "error",
     "traceback": [
      "\u001b[1;31m---------------------------------------------------------------------------\u001b[0m",
      "\u001b[1;31mAttributeError\u001b[0m                            Traceback (most recent call last)",
      "Cell \u001b[1;32mIn[11], line 1\u001b[0m\n\u001b[1;32m----> 1\u001b[0m \u001b[43mropa\u001b[49m\u001b[38;5;241;43m.\u001b[39;49m\u001b[43mregistrar_compra\u001b[49m\u001b[43m(\u001b[49m\u001b[38;5;124;43m\"\u001b[39;49m\u001b[38;5;124;43mLaura Romero\u001b[39;49m\u001b[38;5;124;43m\"\u001b[39;49m\u001b[43m,\u001b[49m\u001b[43mcarrito\u001b[49m\u001b[43m)\u001b[49m\n\u001b[0;32m      2\u001b[0m \u001b[38;5;28mprint\u001b[39m(\u001b[38;5;124m\"\u001b[39m\u001b[38;5;124m-------------------------------------------------------------------------------------------\u001b[39m\u001b[38;5;124m\"\u001b[39m)\n\u001b[0;32m      3\u001b[0m historial_compra \u001b[38;5;241m=\u001b[39m ropa\u001b[38;5;241m.\u001b[39mregistrar_compra(\u001b[38;5;124m\"\u001b[39m\u001b[38;5;124mLaura Romero\u001b[39m\u001b[38;5;124m\"\u001b[39m, carrito)\n",
      "Cell \u001b[1;32mIn[1], line 160\u001b[0m, in \u001b[0;36mTiendaOnline.registrar_compra\u001b[1;34m(self, nombre, carrito)\u001b[0m\n\u001b[0;32m    158\u001b[0m cliente_existe \u001b[38;5;241m=\u001b[39m \u001b[38;5;28;01mTrue\u001b[39;00m\n\u001b[0;32m    159\u001b[0m \u001b[38;5;28;01mfor\u001b[39;00m producto \u001b[38;5;129;01min\u001b[39;00m carrito:\n\u001b[1;32m--> 160\u001b[0m     \u001b[43mcarrito\u001b[49m\u001b[38;5;241;43m.\u001b[39;49m\u001b[43mupdate\u001b[49m(carrito)\n\u001b[0;32m    161\u001b[0m     \u001b[38;5;28;01mfor\u001b[39;00m key,value \u001b[38;5;129;01min\u001b[39;00m producto\u001b[38;5;241m.\u001b[39mitems():\n\u001b[0;32m    162\u001b[0m         coste_producto \u001b[38;5;241m=\u001b[39m producto[\u001b[38;5;124m\"\u001b[39m\u001b[38;5;124mcoste\u001b[39m\u001b[38;5;124m\"\u001b[39m] \n",
      "\u001b[1;31mAttributeError\u001b[0m: 'list' object has no attribute 'update'"
     ]
    }
   ],
   "source": [
    "ropa.registrar_compra(\"Laura Romero\",carrito)\n",
    "print(\"-------------------------------------------------------------------------------------------\")\n",
    "historial_compra = ropa.registrar_compra(\"Laura Romero\", carrito)\n",
    "print(historial_compra)\n"
   ]
  },
  {
   "cell_type": "code",
   "execution_count": null,
   "metadata": {},
   "outputs": [
    {
     "name": "stdout",
     "output_type": "stream",
     "text": [
      "Las compras realizadas por este cliente son {'e-mail': 'lromerovet@gmail.com', 'compra': {'camisa': {'cantidad': 4, 'coste': 80}}}\n",
      "Se ha actualizado el historial de compras de clientes, el actual es {'Laura Romero': {'e-mail': 'lromerovet@gmail.com', 'compra': {'camisa': {'cantidad': 4, 'coste': 80}}}, 'Elena Perez': {'e-mail': 'elena1489_68sklhj@hotmail.com'}}\n",
      "Las compras realizadas por este cliente son {'e-mail': 'lromerovet@gmail.com', 'compra': {'camisa': {'cantidad': 4, 'coste': 80}}}\n"
     ]
    }
   ],
   "source": [
    "\n",
    "ropa.ver_compras_cliente (\"Laura Romero\")\n",
    "ropa.registrar_compra(\"Laura Romero\", carrito)\n",
    "ropa.ver_compras_cliente (\"Laura Romero\")"
   ]
  },
  {
   "cell_type": "code",
   "execution_count": null,
   "metadata": {},
   "outputs": [
    {
     "name": "stdout",
     "output_type": "stream",
     "text": [
      "{'Laura Romero': {'e-mail': 'lromerovet@gmail.com', 'compra': {'camisa': {'cantidad': 4, 'coste': 80}}}, 'Elena Perez': {'e-mail': 'elena1489_68sklhj@hotmail.com'}}\n",
      "lromerovet@gmail.com\n",
      "{'camisa': {'cantidad': 4, 'coste': 80}}\n",
      "elena1489_68sklhj@hotmail.com\n"
     ]
    }
   ],
   "source": [
    "ropa.ver_compras_totales()"
   ]
  }
 ],
 "metadata": {
  "kernelspec": {
   "display_name": "Python 3",
   "language": "python",
   "name": "python3"
  },
  "language_info": {
   "codemirror_mode": {
    "name": "ipython",
    "version": 3
   },
   "file_extension": ".py",
   "mimetype": "text/x-python",
   "name": "python",
   "nbconvert_exporter": "python",
   "pygments_lexer": "ipython3",
   "version": "3.11.9"
  }
 },
 "nbformat": 4,
 "nbformat_minor": 2
}
