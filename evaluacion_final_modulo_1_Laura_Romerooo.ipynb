{
 "cells": [
  {
   "cell_type": "code",
   "execution_count": null,
   "metadata": {},
   "outputs": [],
   "source": [
    "import re\n",
    "\n",
    "class TiendaOnline:\n",
    "    \n",
    "    def __init__(self,ventas_totales = float(0)): # definimos los atributos de la clase\n",
    "    # ponemos un valor por defecto de tipo float de ventas totales que es 0, tambien podriamos poner directamente 0.0\n",
    "        self.ventas_totales = ventas_totales\n",
    "        self.inventario = [] # Es una lista vacia en la que iremos añadiendo diccionarios con los datos de cada producto\n",
    "        self.clientes = {} # Es un diccionario vacio sobre el que iremos añadiendo diccionarios con los datos de los clientes\n",
    "    \n",
    "    # a partir de aqui creamos los metodos asociados a la clase\n",
    "    \n",
    "    def agregar_producto(self,nombre,precio,cantidad):\n",
    "        \n",
    "        existe = False \n",
    "        for elemento in self.inventario: # lo primero es iterar el inventario para tratar de buscar el producto\n",
    "        \n",
    "            if nombre in elemento.values(): # si el elemento existe actualizamos la cantidad de dicho producto\n",
    "                existe = True # si se encuentra el elemento existe pasa a ser True, por lo que el segundo condicional no se ejecuta\n",
    "                print('elemento ya en inventario, modifico cantidad')\n",
    "                cantidad = cantidad + elemento['cantidad']\n",
    "                elemento ['cantidad'] = cantidad\n",
    "                print(f\"El inventario actualizado es => {self.inventario}\") # imprimimos un mensaje donde se da informacion del inventario actual\n",
    "                \n",
    "        if existe == False: # esto solo se acciona si despues de itera toda la lista no se encuentra el producto\n",
    "            # si despues de iterar TODO el inventario el elemento no se encuentra entonces añadimos un nuevo diccionario con el producto nuevo\n",
    "            print('Este producto no esta en nuestro inventario, lo añadimos')\n",
    "            self.inventario.extend([{'nombre': nombre, 'precio': precio,'cantidad': cantidad}])\n",
    "            print(f\"El inventario actualizado es => {self.inventario}\") # imprimimos un mensaje donde se da informacion del inventario actual\n",
    "        \n",
    "    def ver_inventario(self):\n",
    "        for elemento in self.inventario: # iteramos la lista que contiene los diccionarios con cada producto\n",
    "            for key, value in elemento.items(): # iteramos cada diccionario dentro de la lista\n",
    "                print(key.capitalize(), \":\", value) \n",
    "                # Imprimimos las keys en mayusculas seguidas de : y su valor (\"Nombre\": nombre producto, \"Precio\" : numero, \"Cantidad:numero\"        \n",
    "        \n",
    "    def buscar_producto(self,nombre):\n",
    "        existe = False \n",
    "        for elemento in self.inventario: # iteramos la lista del inventario\n",
    "            if nombre in elemento.values(): # si el nombre se encuentra en los valores del diccionario (concretamente el par que va con \"Nombre\")\n",
    "                existe = True\n",
    "                for key,value in elemento.items(): # iteramos el diccionario que contiene el producto\n",
    "                    print(key.capitalize(), \":\", value) # Imprimimos los datos del producto en cuestión\n",
    "        if existe == False:\n",
    "            print(\"Producto no encontrado\")\n",
    "                     \n",
    "    def actualizar_stock (self,nombre,cantidad): \n",
    "        existe = False    # Ponemos una condicion existe, que va a ser False, a no ser que encontremos el elemento, caso en el que se transformara en True\n",
    "        for elemento in self.inventario: # Iteramos el inventario\n",
    "            if nombre in elemento.values(): # Si encontramos el producto cambiamos existe a True, y se ejecuta este condicional, actualizando la cantidad\n",
    "                existe = True\n",
    "                cantidad = elemento[\"cantidad\"] + cantidad\n",
    "                elemento[\"cantidad\"] = cantidad\n",
    "                print(f\"Producto ya está en inventario, actualizamos su stock, el stock de este producto actualizado es {elemento}\")\n",
    "        if  existe == False:  \n",
    "            print(\"El producto no se encuentra en nuestro inventario\") # si el producto no se encuentra, se imprime mensaje comunicandolo \n",
    "\n",
    "    def eliminar_producto (self,nombre): \n",
    "        existe = False    \n",
    "        for elemento in self.inventario: # Iteramos todo el inventario, si encuentra el elemento cambia la condicion a True y elimina el elemento\n",
    "            if nombre in elemento.values():\n",
    "                existe = True\n",
    "                self.inventario.remove(elemento)\n",
    "                print(f\"Elemento {nombre} correctamente eliminado, el inventario actualizado es {self.inventario}\") \n",
    "                # Imprimimos mensaje mostrando el producto eliminado y el inventario actual. \n",
    "                \n",
    "        if  existe == False:  \n",
    "            #si despues de iterar todo el inventario no encuentra el elemento, la condicion existe seguirá siendo False y se ejecuta este condicional\n",
    "            print(\"El producto no se encuentra en nuestro inventario\") # Imprimimos mensaje comunicando que no está el producto. \n",
    "                    \n",
    "    def calcular_valor_inventario(self):\n",
    "        suma = 0 # generamos una variable neutra suma que será la que iremos incrementando en cada iteración\n",
    "        for producto in self.inventario: #iteramos inventario\n",
    "            valor_producto = producto[\"cantidad\"] * producto[\"precio\"] # creamos variable valor_producto: que es precio * la cantidad\n",
    "            print(valor_producto) # Imprimo el valor asociado a cada producto\n",
    "            suma += valor_producto \n",
    "            # en cada vuelta del bucle sumamos el valor de cada producto con el producto siguiente, y así sucesivamente hasta que termine el bucle\n",
    "        print(f\"El valor de nuestro inventario actual es {suma} euros\") # Imprimimos mensaje mostrando el valor total\n",
    "    \n",
    "    def realizar_compra(self):\n",
    "        \n",
    "        carrito = {} # generamos una lista vacia para poder ir metiendo los productos que seleccione el cliente\n",
    "        coste= 0 # genero una variable neutra para ir guardando el coste total\n",
    "        while True: # genero un bucle while para que el cliente pueda ir realizando las compras que quiera\n",
    "            existe_inventario = False\n",
    "            # le muestro al cliente el inventario para que nos diga qué quiere\n",
    "            # genero una variable seleccion_producto que tomara como valor el input que meta el cliente\n",
    "            seleccion_producto = input(\"Dime que productos quieres comprar de los que figuran en el inventario \\n(cuando no quieras añadir más productos al carrito escribe fin): \")    \n",
    "            print(f\"Has seleccionado : {seleccion_producto}\")\n",
    "            if seleccion_producto.lower() == \"fin\": # genero una condicion que rompe el bucle, para cuando el cliente decida parar de comprar\n",
    "                break\n",
    "            \n",
    "            precio_producto_actual = 0\n",
    "            for elemento in self.inventario: # itero nuestro inventario\n",
    "                if seleccion_producto.lower() in elemento.values(): # si el producto está en el inventario se ejecuta este if\n",
    "                    existe_inventario = True\n",
    "                    cantidad_producto = int(input(f\"Dime cuantas unidades quieres de {seleccion_producto}: \")) \n",
    "                    # genero una varible cantidad_producto que toma el valor transformado a un integer para que nos diga la cantidad\n",
    "                    print(f\"Has seleccionado {cantidad_producto} unidades\")\n",
    "                    if cantidad_producto > elemento['cantidad']: \n",
    "                        # verificamos que disponemos cantidad suficiente en el inventario, si no la tenemos imprimimos mensaje\n",
    "                        print(\"lo siento, no tenemos stock suficiente\")\n",
    "                        break \n",
    "                    elemento['cantidad'] = elemento['cantidad'] - cantidad_producto\n",
    "                    coste_actual = cantidad_producto * elemento['precio']\n",
    "                    coste += coste_actual\n",
    "                    precio_producto_actual = elemento['precio']\n",
    "                    print('coste actual del producto: ', coste_actual)\n",
    "                    print('coste acumulado: ', coste)\n",
    "\n",
    "            if seleccion_producto in carrito:\n",
    "                print('ya existe elproducto en el carrito')\n",
    "                carrito[seleccion_producto][\"cantidad\"] += cantidad_producto\n",
    "                #print('Despues - ', producto)\n",
    "            else:\n",
    "                carrito.update({seleccion_producto:{\"cantidad\": cantidad_producto, \"precio\": precio_producto_actual}})\n",
    "                    \n",
    "            # {Camisa': 'cantidad': 3, 'coste': 60}, {'blusa':'cantidad': 3, 'coste': 15}\n",
    "                    \n",
    "        if existe_inventario == False:\n",
    "                print(\"lo siento, producto no encontrado, intentalo de nuevo\")        \n",
    "        \n",
    "        print(f\"tu carrito actual es {carrito}\")\n",
    "        print(f\"El coste total de tu compra asciende a {coste} euros\")  \n",
    "        return [coste,carrito]         \n",
    "    \n",
    "    def procesar_pago(self,coste):\n",
    "        try:\n",
    "            importe_pagado = float (input(\"El importe que has pagado es: \"))\n",
    "            if coste <= importe_pagado:\n",
    "                cambio = importe_pagado - coste\n",
    "                print(f\"Pago realizado correctamente, tu cambio es {cambio} euros\")\n",
    "            else:\n",
    "                deficit = coste - importe_pagado\n",
    "                print(f\"Importe insuficiente, queda pendiente de pago {deficit}\")\n",
    "                \n",
    "        except:\n",
    "            print(\"Para procesar el pago es necesario que introduzcas numeros, no letras\")    \n",
    "    \n",
    "\n",
    "    def agregar_clientes(self, nombre, email):\n",
    "            \n",
    "        patron = r\"[a-zA-Z0-9._]+@[a-zA-Z0-9._]+\\.\\w+\"\n",
    "        # genero un patrón usando expresiones regulares para verificar que el mail tenga el formato correcto\n",
    "        if re.match(patron,email) != None: # si comparando el patrón con el email si hay coincidencias actualizamos diccionario con el cliente nuevo y su mail\n",
    "            self.clientes.update({nombre: {}}) # primero añado el diccionario nombre a self.clientes que contiene un diccionario vacio\n",
    "            self.clientes[nombre].update({\"e-mail\":email}) # añado el par clave valor \"email\" : mail a ese diccionario vacio\n",
    "            \n",
    "        else: # si re.match(patron,email) == None es que el mail con cumple con el patrón definido y imprimimos mensaje\n",
    "            print(\"Lo siento, el email introducido tiene un formato incorrecto\")\n",
    "        \n",
    "        print(self.clientes)  # imprimo el diccionario self.clientes     \n",
    "  \n",
    "    \n",
    "    def ver_clientes(self):\n",
    "        for cliente,mail in self.clientes.items(): # itero el diccionario donde clave es cliente y valor mail\n",
    "            print(f\"NOMBRE CLIENTE => {cliente}, EMAIL => {mail}\")\n",
    "    \n",
    "\n",
    "    def registrar_compra (self,nombre, carrito):\n",
    "       \n",
    "        cliente_existe = False\n",
    "        compra={}\n",
    "        if nombre in self.clientes:\n",
    "            cliente_existe = True\n",
    "           \n",
    "            self.clientes[nombre].update({\"compra\":carrito})\n",
    "                \n",
    "            print(self.clientes)\n",
    "                #{'Laura Romero': {'e-mail': 'lromerovet@gmail.com'},\n",
    "            \n",
    "            #ESTE ES MI CARRITO =>  [{'producto': 'camisa', 'cantidad': 2, 'coste': 40}, {'producto': 'blusa', 'cantidad': 5, 'coste': 25}]\n",
    "            #if nombre in cliente:\n",
    "                #cliente_existe = True\n",
    "                #for producto in carrito:\n",
    "                    #carrito.update(carrito)\n",
    "                    #for key,value in producto.items():\n",
    "                        #coste_producto = producto[\"coste\"] \n",
    "                        #total_compra = total_compra + coste_producto\n",
    "                          \n",
    "                         \n",
    "                # datos_compra_cliente.append([cliente,carrito,total_compra])\n",
    "                        \n",
    "                        \n",
    "                #print(f\"DATOS COMPRA CLIENTE {cliente} => {datos_compra_cliente}\")\n",
    "                #return datos_compra_cliente\n",
    "                   \n",
    "                    \n",
    "        if cliente_existe == False:\n",
    "            print(\"Cliente no encontrado\")   \n",
    "                    \n",
    "    def ver_compras_cliente (self,nombre):\n",
    "        cliente_existe = False\n",
    "        for cliente in self.clientes.keys():   \n",
    "            if nombre in cliente:\n",
    "                cliente_existe = True\n",
    "                print(f\"Las compras realizadas por este cliente son \")\n",
    "                 \n",
    "        \n",
    "        if cliente_existe == False:\n",
    "            print(\"cliente no encontrado\")        \n",
    "    \n",
    "    def ver_compras_totales (self):\n",
    "        pass\n",
    "       "
   ]
  },
  {
   "cell_type": "code",
   "execution_count": 2,
   "metadata": {},
   "outputs": [
    {
     "name": "stdout",
     "output_type": "stream",
     "text": [
      "Este producto no esta en nuestro inventario, lo añadimos\n",
      "El inventario actualizado es => [{'nombre': 'pantalon', 'precio': 400, 'cantidad': 5}]\n",
      "Este producto no esta en nuestro inventario, lo añadimos\n",
      "El inventario actualizado es => [{'nombre': 'pantalon', 'precio': 400, 'cantidad': 5}, {'nombre': 'camisa', 'precio': 20, 'cantidad': 6}]\n",
      "elemento ya en inventario, modifico cantidad\n",
      "El inventario actualizado es => [{'nombre': 'pantalon', 'precio': 400, 'cantidad': 14}, {'nombre': 'camisa', 'precio': 20, 'cantidad': 6}]\n"
     ]
    }
   ],
   "source": [
    "                 \n",
    "ropa = TiendzaOnline() # instanciamos un objeto llamado ropa asociado a la clase TiendaOnline()\n",
    "\n",
    "# Agrego pantalon y camisa, vemos como en pantalla se imprimen los datos de inventario con los productos agregados\n",
    "ropa.agregar_producto ('pantalon',400,5) # para agregar un elemento es necesario su nombre, precio y cantidad\n",
    "ropa.agregar_producto ('camisa',20,6) \n",
    "\n",
    "# Trato de agregar pantalón, aunque es un producto que ya existe en el inventario por lo se actualiza la cantidad 5 + 9 = 14\n",
    "ropa.agregar_producto ('pantalon',47,9)"
   ]
  },
  {
   "cell_type": "code",
   "execution_count": 3,
   "metadata": {},
   "outputs": [
    {
     "name": "stdout",
     "output_type": "stream",
     "text": [
      "Nombre : pantalon\n",
      "Precio : 400\n",
      "Cantidad : 14\n",
      "Nombre : camisa\n",
      "Precio : 20\n",
      "Cantidad : 6\n"
     ]
    }
   ],
   "source": [
    "# Ejecutamos el metodo para que nos muestre el inventario de nuestra TiendaOnline\n",
    "ropa.ver_inventario()"
   ]
  },
  {
   "cell_type": "code",
   "execution_count": 4,
   "metadata": {},
   "outputs": [
    {
     "name": "stdout",
     "output_type": "stream",
     "text": [
      "Nombre : pantalon\n",
      "Precio : 400\n",
      "Cantidad : 14\n",
      "Producto no encontrado\n"
     ]
    }
   ],
   "source": [
    "ropa.buscar_producto(\"pantalon\") # cuando buscamos pantalon lo encuentra y nos muestra su precio y cantidad\n",
    "ropa.buscar_producto(\"calcetines\") #cuando buscamos calcetines, como no lo encuentra nos muestra un mensaje: Producto no encontrado. "
   ]
  },
  {
   "cell_type": "code",
   "execution_count": 5,
   "metadata": {},
   "outputs": [
    {
     "name": "stdout",
     "output_type": "stream",
     "text": [
      "Producto ya está en inventario, actualizamos su stock, el stock de este producto actualizado es {'nombre': 'camisa', 'precio': 20, 'cantidad': 8}\n",
      "El producto no se encuentra en nuestro inventario\n"
     ]
    }
   ],
   "source": [
    "ropa.actualizar_stock('camisa',2) # Tratamos de añadir 2 camisas a nuestro inventario, como sí que hay camisas, nos suma la cantidad\n",
    "ropa.actualizar_stock('calcetines',4) # En cambio, al intentar añadir 4 calcetines al inventario solo imprime mensaje notificando que no tenemos calcetines. \n",
    "    "
   ]
  },
  {
   "cell_type": "code",
   "execution_count": 6,
   "metadata": {},
   "outputs": [
    {
     "name": "stdout",
     "output_type": "stream",
     "text": [
      "Elemento pantalon correctamente eliminado, el inventario actualizado es [{'nombre': 'camisa', 'precio': 20, 'cantidad': 8}]\n",
      "El producto no se encuentra en nuestro inventario\n"
     ]
    }
   ],
   "source": [
    "\n",
    "ropa.eliminar_producto(\"pantalon\") # eliminamos pantalon, se imprime producto eliminado y inventario actualizado\n",
    "ropa.eliminar_producto(\"calcetines\")  # al tratar de eliminar un producto que no existe nos muestra mensaje diciendonos que no lo tenemos. "
   ]
  },
  {
   "cell_type": "code",
   "execution_count": 7,
   "metadata": {},
   "outputs": [
    {
     "name": "stdout",
     "output_type": "stream",
     "text": [
      "Este producto no esta en nuestro inventario, lo añadimos\n",
      "El inventario actualizado es => [{'nombre': 'camisa', 'precio': 20, 'cantidad': 8}, {'nombre': 'blusa', 'precio': 5, 'cantidad': 10}]\n",
      "Nombre : camisa\n",
      "Precio : 20\n",
      "Cantidad : 8\n",
      "Nombre : blusa\n",
      "Precio : 5\n",
      "Cantidad : 10\n",
      "160\n",
      "50\n",
      "El valor de nuestro inventario actual es 210 euros\n"
     ]
    }
   ],
   "source": [
    "ropa.agregar_producto (\"blusa\", 5, 10)   # agrego otro elemento porque elimine camisa con el metodo anteior\n",
    "ropa.ver_inventario() # imprimo el inventario actual para que sea más facil comprobar si el metodo siguiente es correcto\n",
    "ropa.calcular_valor_inventario() \n",
    "# el valor total del inventario es valor de las camisas (20*8 = 160) + el valor de las blusas (5*10 = 50), 160+50 = 210\n"
   ]
  },
  {
   "cell_type": "code",
   "execution_count": 8,
   "metadata": {},
   "outputs": [
    {
     "name": "stdout",
     "output_type": "stream",
     "text": [
      "------------- Stock actual:  [{'nombre': 'camisa', 'precio': 20, 'cantidad': 8}, {'nombre': 'blusa', 'precio': 5, 'cantidad': 10}]\n",
      "Has seleccionado Camisa\n",
      "Has seleccionado 3 unidades\n",
      "------------- Stock actual:  [{'nombre': 'camisa', 'precio': 20, 'cantidad': 5}, {'nombre': 'blusa', 'precio': 5, 'cantidad': 10}]\n",
      "Has seleccionado blusa\n",
      "Has seleccionado 3 unidades\n",
      "------------- Stock actual:  [{'nombre': 'camisa', 'precio': 20, 'cantidad': 5}, {'nombre': 'blusa', 'precio': 5, 'cantidad': 7}]\n",
      "Has seleccionado fin\n",
      "tu carrito actual es [{'producto': 'Camisa', 'cantidad': 3, 'coste': 60}, {'producto': 'blusa', 'cantidad': 3, 'coste': 15}]\n",
      "El coste total de tu compra asciende a 75 euros\n",
      "Pago realizado correctamente, tu cambio es -25.0 euros\n"
     ]
    }
   ],
   "source": [
    "[coste,carrito] = ropa.realizar_compra() \n",
    "datos = [coste,carrito] \n",
    "# extraigo el coste y carrito que nos devuelve realizar comprar para poder reutilizarlo al procesar el pago\n",
    "ropa.procesar_pago(coste) # ejecutamos el metodo procesar pago(coste) con el coste pendiente despues de realizar el metodo realizar_compra()"
   ]
  },
  {
   "cell_type": "code",
   "execution_count": 9,
   "metadata": {},
   "outputs": [
    {
     "name": "stdout",
     "output_type": "stream",
     "text": [
      "{'Laura Romero': {'e-mail': 'lromerovet@gmail.com'}}\n",
      "{'Laura Romero': {'e-mail': 'lromerovet@gmail.com'}, 'Elena Perez': {'e-mail': 'elena1489_68sklhj@hotmail.com'}}\n",
      "Lo siento, el email introducido tiene un formato incorrecto\n",
      "{'Laura Romero': {'e-mail': 'lromerovet@gmail.com'}, 'Elena Perez': {'e-mail': 'elena1489_68sklhj@hotmail.com'}}\n",
      "Lo siento, el email introducido tiene un formato incorrecto\n",
      "{'Laura Romero': {'e-mail': 'lromerovet@gmail.com'}, 'Elena Perez': {'e-mail': 'elena1489_68sklhj@hotmail.com'}}\n"
     ]
    }
   ],
   "source": [
    "# agrego 2 clientes con Datos + mail, con formato adecuado, y compruebo que la lista clientes ya tiene estos 2 clientes registrados\n",
    "ropa.agregar_clientes(\"Laura Romero\", \"lromerovet@gmail.com\")\n",
    "ropa.agregar_clientes (\"Elena Perez\", \"elena1489_68sklhj@hotmail.com\")\n",
    "\n",
    "# compruebo que al intentar meter un cliente con formato incorrecto de mail no me lo agrega a la lista. \n",
    "ropa.agregar_clientes(\"Pepito Perez\", \"pepito.com\")\n",
    "ropa.agregar_clientes(\"Pepito Perez\", \"pepito@com\")\n",
    "\n"
   ]
  },
  {
   "cell_type": "code",
   "execution_count": 10,
   "metadata": {},
   "outputs": [
    {
     "name": "stdout",
     "output_type": "stream",
     "text": [
      "NOMBRE CLIENTE => Laura Romero, EMAIL => {'e-mail': 'lromerovet@gmail.com'}\n",
      "NOMBRE CLIENTE => Elena Perez, EMAIL => {'e-mail': 'elena1489_68sklhj@hotmail.com'}\n"
     ]
    }
   ],
   "source": [
    "ropa.ver_clientes()"
   ]
  },
  {
   "cell_type": "code",
   "execution_count": 11,
   "metadata": {},
   "outputs": [
    {
     "name": "stdout",
     "output_type": "stream",
     "text": [
      "ESTE ES MI CARRITO =>  [{'producto': 'Camisa', 'cantidad': 3, 'coste': 60}, {'producto': 'blusa', 'cantidad': 3, 'coste': 15}]\n"
     ]
    },
    {
     "ename": "AttributeError",
     "evalue": "'list' object has no attribute 'update'",
     "output_type": "error",
     "traceback": [
      "\u001b[1;31m---------------------------------------------------------------------------\u001b[0m",
      "\u001b[1;31mAttributeError\u001b[0m                            Traceback (most recent call last)",
      "Cell \u001b[1;32mIn[11], line 1\u001b[0m\n\u001b[1;32m----> 1\u001b[0m \u001b[43mropa\u001b[49m\u001b[38;5;241;43m.\u001b[39;49m\u001b[43mregistrar_compra\u001b[49m\u001b[43m(\u001b[49m\u001b[38;5;124;43m\"\u001b[39;49m\u001b[38;5;124;43mLaura Romero\u001b[39;49m\u001b[38;5;124;43m\"\u001b[39;49m\u001b[43m,\u001b[49m\u001b[43mcarrito\u001b[49m\u001b[43m)\u001b[49m\n\u001b[0;32m      2\u001b[0m \u001b[38;5;28mprint\u001b[39m(\u001b[38;5;124m\"\u001b[39m\u001b[38;5;124m-------------------------------------------------------------------------------------------\u001b[39m\u001b[38;5;124m\"\u001b[39m)\n\u001b[0;32m      3\u001b[0m historial_compra \u001b[38;5;241m=\u001b[39m ropa\u001b[38;5;241m.\u001b[39mregistrar_compra(\u001b[38;5;124m\"\u001b[39m\u001b[38;5;124mLaura Romero\u001b[39m\u001b[38;5;124m\"\u001b[39m, carrito)\n",
      "Cell \u001b[1;32mIn[1], line 160\u001b[0m, in \u001b[0;36mTiendaOnline.registrar_compra\u001b[1;34m(self, nombre, carrito)\u001b[0m\n\u001b[0;32m    158\u001b[0m cliente_existe \u001b[38;5;241m=\u001b[39m \u001b[38;5;28;01mTrue\u001b[39;00m\n\u001b[0;32m    159\u001b[0m \u001b[38;5;28;01mfor\u001b[39;00m producto \u001b[38;5;129;01min\u001b[39;00m carrito:\n\u001b[1;32m--> 160\u001b[0m     \u001b[43mcarrito\u001b[49m\u001b[38;5;241;43m.\u001b[39;49m\u001b[43mupdate\u001b[49m(carrito)\n\u001b[0;32m    161\u001b[0m     \u001b[38;5;28;01mfor\u001b[39;00m key,value \u001b[38;5;129;01min\u001b[39;00m producto\u001b[38;5;241m.\u001b[39mitems():\n\u001b[0;32m    162\u001b[0m         coste_producto \u001b[38;5;241m=\u001b[39m producto[\u001b[38;5;124m\"\u001b[39m\u001b[38;5;124mcoste\u001b[39m\u001b[38;5;124m\"\u001b[39m] \n",
      "\u001b[1;31mAttributeError\u001b[0m: 'list' object has no attribute 'update'"
     ]
    }
   ],
   "source": [
    "ropa.registrar_compra(\"Laura Romero\",carrito)\n",
    "print(\"-------------------------------------------------------------------------------------------\")\n",
    "historial_compra = ropa.registrar_compra(\"Laura Romero\", carrito)\n",
    "print(historial_compra)\n"
   ]
  },
  {
   "cell_type": "code",
   "execution_count": null,
   "metadata": {},
   "outputs": [
    {
     "name": "stdout",
     "output_type": "stream",
     "text": [
      "Las compras realizadas por este cliente son {'e-mail': 'lromerovet@gmail.com', 'compra': {'camisa': {'cantidad': 4, 'coste': 80}}}\n",
      "Se ha actualizado el historial de compras de clientes, el actual es {'Laura Romero': {'e-mail': 'lromerovet@gmail.com', 'compra': {'camisa': {'cantidad': 4, 'coste': 80}}}, 'Elena Perez': {'e-mail': 'elena1489_68sklhj@hotmail.com'}}\n",
      "Las compras realizadas por este cliente son {'e-mail': 'lromerovet@gmail.com', 'compra': {'camisa': {'cantidad': 4, 'coste': 80}}}\n"
     ]
    }
   ],
   "source": [
    "\n",
    "ropa.ver_compras_cliente (\"Laura Romero\")\n",
    "ropa.registrar_compra(\"Laura Romero\", carrito)\n",
    "ropa.ver_compras_cliente (\"Laura Romero\")"
   ]
  },
  {
   "cell_type": "code",
   "execution_count": null,
   "metadata": {},
   "outputs": [
    {
     "name": "stdout",
     "output_type": "stream",
     "text": [
      "{'Laura Romero': {'e-mail': 'lromerovet@gmail.com', 'compra': {'camisa': {'cantidad': 4, 'coste': 80}}}, 'Elena Perez': {'e-mail': 'elena1489_68sklhj@hotmail.com'}}\n",
      "lromerovet@gmail.com\n",
      "{'camisa': {'cantidad': 4, 'coste': 80}}\n",
      "elena1489_68sklhj@hotmail.com\n"
     ]
    }
   ],
   "source": [
    "ropa.ver_compras_totales()"
   ]
  }
 ],
 "metadata": {
  "kernelspec": {
   "display_name": "Python 3",
   "language": "python",
   "name": "python3"
  },
  "language_info": {
   "codemirror_mode": {
    "name": "ipython",
    "version": 3
   },
   "file_extension": ".py",
   "mimetype": "text/x-python",
   "name": "python",
   "nbconvert_exporter": "python",
   "pygments_lexer": "ipython3",
   "version": "3.11.9"
  }
 },
 "nbformat": 4,
 "nbformat_minor": 2
}
