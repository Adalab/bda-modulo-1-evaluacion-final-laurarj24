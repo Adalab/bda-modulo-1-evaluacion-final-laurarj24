{
 "cells": [
  {
   "cell_type": "code",
   "execution_count": 82,
   "metadata": {},
   "outputs": [],
   "source": [
    "import re\n",
    "\n",
    "class TiendaOnline:\n",
    "    \n",
    "    def __init__(self,ventas_totales = float(0)): # definimos los atributos de la clase\n",
    "    # ponemos un valor por defecto de tipo float de ventas totales que es 0, tambien podriamos poner directamente 0.0\n",
    "        self.ventas_totales = ventas_totales\n",
    "        self.inventario = [] # Es una lista vacia en la que iremos añadiendo diccionarios con los datos de cada producto\n",
    "        self.clientes = {} # Es un diccionario vacio sobre el que iremos añadiendo diccionarios con los datos de los clientes\n",
    "    \n",
    "    # a partir de aqui creamos los metodos asociados a la clase\n",
    "    \n",
    "    def agregar_producto(self,nombre,precio,cantidad):\n",
    "        \n",
    "        existe = False # predefino una variable booleana existe cuyo valor por defecto es False\n",
    "        for elemento in self.inventario: # lo primero es iterar el inventario para tratar de buscar el producto\n",
    "            if nombre in elemento.values(): # si el elemento existe actualizamos la cantidad de dicho producto\n",
    "                existe = True # si se encuentra el elemento existe pasa a ser True\n",
    "                print('elemento ya en inventario, modifico cantidad')\n",
    "                cantidad = cantidad + elemento['cantidad']\n",
    "                elemento ['cantidad'] = cantidad\n",
    "                print(f\"El inventario actualizado es => {self.inventario}\") # imprimimos un mensaje donde se da informacion del inventario actual            \n",
    "        if existe == False: # esto solo se acciona si despues de iterar toda la lista no se encuentra el producto\n",
    "            print('Este producto no esta en nuestro inventario, lo añadimos')\n",
    "            self.inventario.extend([{'nombre': nombre, 'precio': precio,'cantidad': cantidad}]) \n",
    "            # utilizamos el metodo extend para añadir cada producto a la lista de productos\n",
    "            print(f\"El inventario actualizado es => {self.inventario}\") # imprimimos un mensaje donde se da informacion del inventario actual\n",
    "        \n",
    "    def ver_inventario(self):\n",
    "        for elemento in self.inventario: # iteramos la lista que contiene los diccionarios con cada producto\n",
    "            for key, value in elemento.items(): # iteramos cada diccionario dentro de la lista\n",
    "                print(key.capitalize(), \":\", value) \n",
    "                # Imprimimos las keys en mayusculas seguidas de \":\" y su valor (\"Nombre\": nombre producto, \"Precio\" : numero, \"Cantidad:numero\"        \n",
    "        \n",
    "    def buscar_producto(self,nombre):\n",
    "        existe = False # generamos una variable booleana existe que por defecto será False\n",
    "        for elemento in self.inventario: # iteramos la lista del inventario\n",
    "            if nombre in elemento.values(): # si el nombre se encuentra en los valores del diccionario (concretamente el par que va con \"Nombre\")\n",
    "                existe = True\n",
    "                for key,value in elemento.items(): # iteramos el diccionario que contiene el producto\n",
    "                    print(key.capitalize(), \":\", value) # Imprimimos los datos del producto en cuestión\n",
    "        if existe == False:\n",
    "            print(\"Producto no encontrado\")\n",
    "                     \n",
    "    def actualizar_stock (self,nombre,cantidad): \n",
    "        existe = False    # Ponemos una condicion booleana de inicio que por defecto va a ser False\n",
    "        for elemento in self.inventario: # Iteramos el inventario\n",
    "            if nombre in elemento.values(): # Si encontramos el producto cambiamos existe a True, y se ejecuta este condicional, actualizando la cantidad\n",
    "                existe = True\n",
    "                cantidad = elemento[\"cantidad\"] + cantidad\n",
    "                elemento[\"cantidad\"] = cantidad\n",
    "                print(f\"Producto ya está en inventario, actualizamos su stock, el stock de este producto actualizado es {elemento}\")\n",
    "        if  existe == False:  \n",
    "            print(\"El producto no se encuentra en nuestro inventario\") # si el producto no se encuentra, se imprime mensaje comunicandolo \n",
    "\n",
    "    def eliminar_producto (self,nombre): \n",
    "        existe = False    # Partimos de nuevo de una condicion booleana que por defecto sera False, solo cambia a True si se ejecuta el primer if\n",
    "        for elemento in self.inventario: # Iteramos todo el inventario, si encuentra el elemento cambia la condicion a True y elimina el elemento\n",
    "            if nombre in elemento.values():\n",
    "                existe = True\n",
    "                self.inventario.remove(elemento)\n",
    "                print(f\"Elemento {nombre} correctamente eliminado, el inventario actualizado es {self.inventario}\") \n",
    "                # Imprimimos mensaje mostrando el producto eliminado y el inventario actual. \n",
    "                \n",
    "        if  existe == False:  \n",
    "            #si despues de iterar todo el inventario no encuentra el elemento, la condicion existe seguirá siendo False y se ejecuta este condicional\n",
    "            print(\"El producto no se encuentra en nuestro inventario\") # Imprimimos mensaje comunicando que no está el producto. \n",
    "                    \n",
    "    def calcular_valor_inventario(self):\n",
    "        suma = 0 # generamos una variable neutra suma que será la que iremos incrementando en cada iteración\n",
    "        for producto in self.inventario: #iteramos inventario\n",
    "            valor_producto = producto[\"cantidad\"] * producto[\"precio\"] # creamos variable valor_producto: que es precio * la cantidad\n",
    "            print(valor_producto) # Imprimo el valor asociado a cada producto\n",
    "            suma += valor_producto \n",
    "            # en cada vuelta del bucle sumamos el valor de cada producto con el producto siguiente, y así sucesivamente hasta que termine el bucle\n",
    "        print(f\"El valor de nuestro inventario actual es {suma} euros\") # Imprimimos mensaje mostrando el valor total\n",
    "    \n",
    "    def realizar_compra(self):\n",
    "        \n",
    "        carrito = {} # generamos una lista vacia para poder ir metiendo los productos que seleccione el cliente\n",
    "        coste= 0 # genero una variable neutra para ir guardando el coste total\n",
    "        while True: # genero un bucle while para que el cliente pueda ir realizando las compras que quiera, hasta que se de la condicion para que finalice el bucle\n",
    "            existe_inventario = False\n",
    "            # le muestro al cliente el inventario para que nos diga qué quiere\n",
    "            # genero una variable seleccion_producto que tomara como valor el input que meta el cliente\n",
    "            seleccion_producto = input(\"Dime que productos quieres comprar de los que figuran en el inventario \\n(cuando no quieras añadir más productos al carrito escribe fin): \")    \n",
    "            print(f\"Has seleccionado : {seleccion_producto}\")\n",
    "            if seleccion_producto.lower() == \"fin\": # genero una condicion que rompe el bucle, para cuando el cliente decida parar de comprar\n",
    "                break\n",
    "            \n",
    "            for elemento in self.inventario: # itero nuestro inventario\n",
    "                if seleccion_producto.lower() in elemento.values(): # si el producto está en el inventario se ejecuta este if\n",
    "                    existe_inventario = True\n",
    "                    cantidad_producto = int(input(f\"Dime cuantas unidades quieres de {seleccion_producto}: \")) \n",
    "                    # genero una varible cantidad_producto que toma el valor transformado a un integer para que nos diga la cantidad\n",
    "                    print(f\"Has seleccionado {cantidad_producto} unidades\")\n",
    "                    if cantidad_producto > elemento['cantidad']: \n",
    "                        # verificamos que disponemos cantidad suficiente en el inventario, si no la tenemos imprimimos mensaje\n",
    "                        print(\"lo siento, no tenemos stock suficiente\")\n",
    "                        break \n",
    "                    elemento['cantidad'] = elemento['cantidad'] - cantidad_producto\n",
    "                    coste_actual = cantidad_producto * elemento['precio']\n",
    "                    coste += coste_actual\n",
    "                    \n",
    "                    print('coste actual del producto: ', coste_actual)\n",
    "                    print('coste acumulado total: ', coste)\n",
    "\n",
    "                    if seleccion_producto in carrito: \n",
    "                    # si el producto ya está en el carrito, no quiero sobreescribirlo sino actualizar la cantidad de producto y su precio acumulado\n",
    "                        print('ya existe elproducto en el carrito')\n",
    "                        carrito[seleccion_producto][\"cantidad\"] += cantidad_producto # sumamos a la cantidad que tuviera ese producto con la actual\n",
    "                        carrito[seleccion_producto][\"coste\"] += coste_actual #sumamos al coste acumulado en este producto el coste actual\n",
    "                        #print('Despues - ', producto)\n",
    "                    else:\n",
    "                        carrito.update({seleccion_producto:{\"cantidad\": cantidad_producto, \"coste\": coste_actual}})\n",
    "                        # solo se aplica si el producto no se encuentra, lo añade al carrito                                       \n",
    "        if existe_inventario == False: # si no encuentra el producto en el inventario entonces se imprime mensaje notificandolo\n",
    "                print(\"lo siento, producto no encontrado, intentalo de nuevo\")        \n",
    "        \n",
    "        print(f\"tu carrito actual es {carrito}\") # imprimimos carrito actual\n",
    "        print(f\"El coste total de tu compra asciende a {coste} euros\")  # imprimimos coste \n",
    "        return [coste,carrito] # retornamos en una lista variables coste y carrito para poder reutilizarlas en otros metodos\n",
    "    \n",
    "    def procesar_pago(self,coste): # reutilizamos el coste total retornado con el metodo realizar compra\n",
    "        try:\n",
    "            importe_pagado = float (input(\"El importe que has pagado es: \")) # pedimos al usuario que nos indique con cuanto va a pagar, y lo convertimos a un float\n",
    "            if coste <= importe_pagado: # se ejecuta cuando el usuario paga lo suficiente para costear el carrito\n",
    "                cambio = importe_pagado - coste # calculamos su cambio\n",
    "                print(f\"Pago realizado correctamente, tu cambio es {cambio} euros\") # se lo imprimimos\n",
    "            else: # si el usuario no paga con suficiente dinero le notificamos que queda una cantidad pendiente de pago\n",
    "                deficit = coste - importe_pagado\n",
    "                print(f\"Importe insuficiente, queda pendiente de pago {deficit}\")\n",
    "                \n",
    "        except: # utilizamos una sentencia try except, por si el usuario en lugar de introducir numeros introduce letras podamos manejar el error\n",
    "            print(\"Para procesar el pago es necesario que introduzcas numeros, no letras\")    \n",
    "    \n",
    "\n",
    "    def agregar_clientes(self, nombre, email):\n",
    "            \n",
    "        patron = r\"[a-zA-Z0-9._]+@[a-zA-Z0-9._]+\\.\\w+\"\n",
    "        # genero un patrón usando expresiones regulares para verificar que el mail tenga el formato correcto\n",
    "        if re.match(patron,email) != None: # si comparando el patrón con el email si hay coincidencias actualizamos diccionario con el cliente nuevo y su mail\n",
    "            self.clientes.update({nombre: {}}) # primero añado el diccionario nombre a self.clientes que contiene un diccionario vacio\n",
    "            self.clientes[nombre].update({\"e-mail\":email}) # añado el par clave valor \"email\" : mail a ese diccionario vacio\n",
    "            \n",
    "        else: # si re.match(patron,email) == None es que el mail con cumple con el patrón definido y imprimimos mensaje\n",
    "            print(\"Lo siento, el email introducido tiene un formato incorrecto\")\n",
    "        \n",
    "        print(self.clientes)  # imprimo el diccionario self.clientes     \n",
    "        return self.clientes\n",
    "  \n",
    "    \n",
    "    def ver_clientes(self):\n",
    "        for cliente,mail in self.clientes.items(): # itero el diccionario donde clave es cliente y valor mail {cliente:{\"mail\":email}}\n",
    "            print(f\"NOMBRE CLIENTE => {cliente}, EMAIL => {mail}\") # imprimo los datos de cliente\n",
    "    \n",
    "\n",
    "    def registrar_compra (self,nombre, carrito):\n",
    "       \n",
    "        cliente_existe = False # genero variable booleana cuyo valor por defecto será False\n",
    "        if nombre in self.clientes: # si el cliente está en nuestra base de datos se ejecuta el condicional, donde se agrega la compra a los datos del cliente\n",
    "            cliente_existe = True       \n",
    "            self.clientes[nombre].update({\"compra\":carrito}) \n",
    "            # añado a la lista del cliente clave par valor, donde la clave es \"compra\" y el valor es el carrito retornado en el metodo realizar compra            \n",
    "            print(self.clientes)                            \n",
    "        if cliente_existe == False: # si no se encuentra el cliente despues de iterar todo la lista se imprime mensaje notificandolo\n",
    "            print(\"Cliente no encontrado\")   \n",
    "                    \n",
    "    def ver_compras_cliente (self,nombre):\n",
    "        cliente_existe = False # igual que siempre, para verificar si cliente está o no, partimos de variable booleana, False a no ser que se encuentre el cliente\n",
    "        for cliente in self.clientes.keys():   # iteramos lista clientes\n",
    "            if nombre in cliente:\n",
    "                cliente_existe = True \n",
    "                try:# si existe accedo a los valores de la clave \"compra\", que incluye producto, cantidad y coste\n",
    "                    compras_cliente = self.clientes[nombre][\"compra\"] # genero una variable recopile directamente los datos de compra del cliente\n",
    "                    print(f\"Las compras realizadas por nuestro cliente {nombre} son {compras_cliente}\")\n",
    "            \n",
    "                    return compras_cliente     \n",
    "                except: \n",
    "                    #si el  cliente no ha comprado, no va a haber en sus datos ningun registro de compra, por eso, para evitar que el programa falle hago una sentencia try... except\n",
    "                    print(f\"cliente {nombre} no tiene compras\")\n",
    "                    return {} # en caso de no tener compras retorno un diccionario vacio, es un diccionario sin elementos\n",
    "        \n",
    "        if cliente_existe == False:\n",
    "            print(\"cliente no encontrado\")    \n",
    "             \n",
    "    \n",
    "    def ver_compras_totales (self):\n",
    "       \n",
    "        for key,value in self.clientes.items():\n",
    "            compra_cliente_actual = self.ver_compras_cliente(key)\n",
    "            print(compra_cliente_actual)\n",
    "            if len(compra_cliente_actual) > 0: #este cliente tiene compras\n",
    "                for key, value in compra_cliente_actual.items():\n",
    "                    \n",
    "                    self.ventas_totales += value[\"coste\"]\n",
    "                    \n",
    "        print(f\"El total de ventas de la empresa ha sido de {self.ventas_totales}\")\n",
    "                \n",
    "\n",
    "           "
   ]
  },
  {
   "cell_type": "code",
   "execution_count": 83,
   "metadata": {},
   "outputs": [
    {
     "name": "stdout",
     "output_type": "stream",
     "text": [
      "Este producto no esta en nuestro inventario, lo añadimos\n",
      "El inventario actualizado es => [{'nombre': 'pantalon', 'precio': 15, 'cantidad': 200}]\n",
      "Este producto no esta en nuestro inventario, lo añadimos\n",
      "El inventario actualizado es => [{'nombre': 'pantalon', 'precio': 15, 'cantidad': 200}, {'nombre': 'camisa', 'precio': 25, 'cantidad': 150}]\n",
      "elemento ya en inventario, modifico cantidad\n",
      "El inventario actualizado es => [{'nombre': 'pantalon', 'precio': 15, 'cantidad': 209}, {'nombre': 'camisa', 'precio': 25, 'cantidad': 150}]\n"
     ]
    }
   ],
   "source": [
    "                 \n",
    "ropa = TiendaOnline() # instanciamos un objeto llamado ropa asociado a la clase TiendaOnline()\n",
    "\n",
    "# Agrego pantalon y camisa, vemos como en pantalla se imprimen los datos de inventario con los productos agregados\n",
    "ropa.agregar_producto ('pantalon',15,200) # para agregar un elemento es necesario su nombre, precio y cantidad\n",
    "ropa.agregar_producto ('camisa',25, 150) \n",
    "\n",
    "# Trato de agregar pantalón, aunque es un producto que ya existe en el inventario por lo se actualiza la cantidad 5 + 9 = 14\n",
    "ropa.agregar_producto ('pantalon',15,9)"
   ]
  },
  {
   "cell_type": "code",
   "execution_count": 84,
   "metadata": {},
   "outputs": [
    {
     "name": "stdout",
     "output_type": "stream",
     "text": [
      "Nombre : pantalon\n",
      "Precio : 15\n",
      "Cantidad : 209\n",
      "Nombre : camisa\n",
      "Precio : 25\n",
      "Cantidad : 150\n"
     ]
    }
   ],
   "source": [
    "# Ejecutamos el metodo para que nos muestre el inventario de nuestra TiendaOnline\n",
    "ropa.ver_inventario()"
   ]
  },
  {
   "cell_type": "code",
   "execution_count": 85,
   "metadata": {},
   "outputs": [
    {
     "name": "stdout",
     "output_type": "stream",
     "text": [
      "Nombre : pantalon\n",
      "Precio : 15\n",
      "Cantidad : 209\n",
      "Producto no encontrado\n"
     ]
    }
   ],
   "source": [
    "ropa.buscar_producto(\"pantalon\") # cuando buscamos pantalon lo encuentra y nos muestra su precio y cantidad\n",
    "ropa.buscar_producto(\"calcetines\") #cuando buscamos calcetines, como no lo encuentra nos muestra un mensaje: Producto no encontrado. "
   ]
  },
  {
   "cell_type": "code",
   "execution_count": 86,
   "metadata": {},
   "outputs": [
    {
     "name": "stdout",
     "output_type": "stream",
     "text": [
      "Producto ya está en inventario, actualizamos su stock, el stock de este producto actualizado es {'nombre': 'camisa', 'precio': 25, 'cantidad': 152}\n",
      "Producto ya está en inventario, actualizamos su stock, el stock de este producto actualizado es {'nombre': 'camisa', 'precio': 25, 'cantidad': 172}\n",
      "El producto no se encuentra en nuestro inventario\n"
     ]
    }
   ],
   "source": [
    "ropa.actualizar_stock('camisa',2) # Tratamos de añadir 2 camisas a nuestro inventario, como sí que hay camisas, nos suma la cantidad\n",
    "ropa.actualizar_stock('camisa',20)\n",
    "ropa.actualizar_stock('calcetines',4) # En cambio, al intentar añadir 4 calcetines al inventario solo imprime mensaje notificando que no tenemos calcetines. \n",
    "    "
   ]
  },
  {
   "cell_type": "code",
   "execution_count": 87,
   "metadata": {},
   "outputs": [
    {
     "name": "stdout",
     "output_type": "stream",
     "text": [
      "Elemento pantalon correctamente eliminado, el inventario actualizado es [{'nombre': 'camisa', 'precio': 25, 'cantidad': 172}]\n",
      "El producto no se encuentra en nuestro inventario\n"
     ]
    }
   ],
   "source": [
    "\n",
    "ropa.eliminar_producto(\"pantalon\") # eliminamos pantalon, se imprime producto eliminado y inventario actualizado\n",
    "ropa.eliminar_producto(\"calcetines\")  # al tratar de eliminar un producto que no existe nos muestra mensaje diciendonos que no lo tenemos. "
   ]
  },
  {
   "cell_type": "code",
   "execution_count": 88,
   "metadata": {},
   "outputs": [
    {
     "name": "stdout",
     "output_type": "stream",
     "text": [
      "Este producto no esta en nuestro inventario, lo añadimos\n",
      "El inventario actualizado es => [{'nombre': 'camisa', 'precio': 25, 'cantidad': 172}, {'nombre': 'blusa', 'precio': 10, 'cantidad': 50}]\n",
      "Nombre : camisa\n",
      "Precio : 25\n",
      "Cantidad : 172\n",
      "Nombre : blusa\n",
      "Precio : 10\n",
      "Cantidad : 50\n",
      "4300\n",
      "500\n",
      "El valor de nuestro inventario actual es 4800 euros\n"
     ]
    }
   ],
   "source": [
    "ropa.agregar_producto (\"blusa\", 10, 50)   # agrego otro elemento porque elimine camisa con el metodo anteior\n",
    "ropa.ver_inventario() # imprimo el inventario actual para que sea más facil comprobar si el metodo siguiente es correcto\n",
    "ropa.calcular_valor_inventario() \n",
    "# el valor total del inventario es valor de las camisas (20*8 = 160) + el valor de las blusas (5*10 = 50), 160+50 = 210\n"
   ]
  },
  {
   "cell_type": "code",
   "execution_count": 89,
   "metadata": {},
   "outputs": [
    {
     "name": "stdout",
     "output_type": "stream",
     "text": [
      "Has seleccionado : camisa\n",
      "Has seleccionado 2 unidades\n",
      "coste actual del producto:  50\n",
      "coste acumulado total:  50\n",
      "Has seleccionado : blusa\n",
      "Has seleccionado 5 unidades\n",
      "coste actual del producto:  50\n",
      "coste acumulado total:  100\n",
      "Has seleccionado : pantalon\n",
      "Has seleccionado : 4\n",
      "Has seleccionado : camisa\n",
      "Has seleccionado 25 unidades\n",
      "coste actual del producto:  625\n",
      "coste acumulado total:  725\n",
      "ya existe elproducto en el carrito\n",
      "Has seleccionado : blusa\n",
      "Has seleccionado 360 unidades\n",
      "lo siento, no tenemos stock suficiente\n",
      "Has seleccionado : fin\n",
      "lo siento, producto no encontrado, intentalo de nuevo\n",
      "tu carrito actual es {'camisa': {'cantidad': 27, 'coste': 675}, 'blusa': {'cantidad': 5, 'coste': 50}}\n",
      "El coste total de tu compra asciende a 725 euros\n",
      "Pago realizado correctamente, tu cambio es 1175.0 euros\n"
     ]
    }
   ],
   "source": [
    "[coste,carrito] = ropa.realizar_compra() \n",
    "datos = [coste,carrito] \n",
    "# extraigo el coste y carrito que nos devuelve realizar comprar para poder reutilizarlo al procesar el pago\n",
    "ropa.procesar_pago(coste) # ejecutamos el metodo procesar pago(coste) con el coste pendiente despues de realizar el metodo realizar_compra()"
   ]
  },
  {
   "cell_type": "code",
   "execution_count": 90,
   "metadata": {},
   "outputs": [
    {
     "name": "stdout",
     "output_type": "stream",
     "text": [
      "{'Laura Romero': {'e-mail': 'lromerovet@gmail.com'}}\n",
      "{'Laura Romero': {'e-mail': 'lromerovet@gmail.com'}, 'Elena Perez': {'e-mail': 'elena1489_68sklhj@hotmail.com'}}\n",
      "{'Laura Romero': {'e-mail': 'lromerovet@gmail.com'}, 'Elena Perez': {'e-mail': 'elena1489_68sklhj@hotmail.com'}, 'Marina Jimenez': {'e-mail': 'marinoky@outlook.es'}}\n",
      "Lo siento, el email introducido tiene un formato incorrecto\n",
      "{'Laura Romero': {'e-mail': 'lromerovet@gmail.com'}, 'Elena Perez': {'e-mail': 'elena1489_68sklhj@hotmail.com'}, 'Marina Jimenez': {'e-mail': 'marinoky@outlook.es'}}\n",
      "Lo siento, el email introducido tiene un formato incorrecto\n",
      "{'Laura Romero': {'e-mail': 'lromerovet@gmail.com'}, 'Elena Perez': {'e-mail': 'elena1489_68sklhj@hotmail.com'}, 'Marina Jimenez': {'e-mail': 'marinoky@outlook.es'}}\n"
     ]
    },
    {
     "data": {
      "text/plain": [
       "{'Laura Romero': {'e-mail': 'lromerovet@gmail.com'},\n",
       " 'Elena Perez': {'e-mail': 'elena1489_68sklhj@hotmail.com'},\n",
       " 'Marina Jimenez': {'e-mail': 'marinoky@outlook.es'}}"
      ]
     },
     "execution_count": 90,
     "metadata": {},
     "output_type": "execute_result"
    }
   ],
   "source": [
    "# agrego 2 clientes con Datos + mail, con formato adecuado, y compruebo que la lista clientes ya tiene estos 2 clientes registrados\n",
    "ropa.agregar_clientes(\"Laura Romero\", \"lromerovet@gmail.com\")\n",
    "ropa.agregar_clientes (\"Elena Perez\", \"elena1489_68sklhj@hotmail.com\")\n",
    "ropa.agregar_clientes(\"Marina Jimenez\", \"marinoky@outlook.es\")\n",
    "# compruebo que al intentar meter un cliente con formato incorrecto de mail no me lo agrega a la lista. \n",
    "ropa.agregar_clientes(\"Pepito Perez\", \"pepito.com\")\n",
    "ropa.agregar_clientes(\"Pepito Perez\", \"pepito@com\")\n",
    "\n"
   ]
  },
  {
   "cell_type": "code",
   "execution_count": 91,
   "metadata": {},
   "outputs": [
    {
     "name": "stdout",
     "output_type": "stream",
     "text": [
      "NOMBRE CLIENTE => Laura Romero, EMAIL => {'e-mail': 'lromerovet@gmail.com'}\n",
      "NOMBRE CLIENTE => Elena Perez, EMAIL => {'e-mail': 'elena1489_68sklhj@hotmail.com'}\n",
      "NOMBRE CLIENTE => Marina Jimenez, EMAIL => {'e-mail': 'marinoky@outlook.es'}\n"
     ]
    }
   ],
   "source": [
    "ropa.ver_clientes() # ejecutamos metodo ver clientes"
   ]
  },
  {
   "cell_type": "code",
   "execution_count": 92,
   "metadata": {},
   "outputs": [
    {
     "name": "stdout",
     "output_type": "stream",
     "text": [
      "{'Laura Romero': {'e-mail': 'lromerovet@gmail.com', 'compra': {'camisa': {'cantidad': 27, 'coste': 675}, 'blusa': {'cantidad': 5, 'coste': 50}}}, 'Elena Perez': {'e-mail': 'elena1489_68sklhj@hotmail.com'}, 'Marina Jimenez': {'e-mail': 'marinoky@outlook.es'}}\n",
      "-------------------------------------------------------------------------------------------\n",
      "{'Laura Romero': {'e-mail': 'lromerovet@gmail.com', 'compra': {'camisa': {'cantidad': 27, 'coste': 675}, 'blusa': {'cantidad': 5, 'coste': 50}}}, 'Elena Perez': {'e-mail': 'elena1489_68sklhj@hotmail.com', 'compra': {'camisa': {'cantidad': 2, 'coste': 40}, 'blusa': {'cantidad': 3, 'coste': 15}}}, 'Marina Jimenez': {'e-mail': 'marinoky@outlook.es'}}\n"
     ]
    }
   ],
   "source": [
    "# primero registro una compra para Laura Romero, y accedo al carrito retornado en el metodo realizar_compra\n",
    "ropa.registrar_compra(\"Laura Romero\",carrito)\n",
    "print(\"-------------------------------------------------------------------------------------------\")\n",
    "# repito el mismo proceso, pero en lugar de usar el carrito generado por el otro metodo, añado directamente un carrito como parámetro\n",
    "ropa.registrar_compra(\"Elena Perez\", {'camisa': {'cantidad': 2, 'coste': 40}, 'blusa': {'cantidad': 3, 'coste': 15}})\n"
   ]
  },
  {
   "cell_type": "code",
   "execution_count": 93,
   "metadata": {},
   "outputs": [
    {
     "name": "stdout",
     "output_type": "stream",
     "text": [
      "Las compras realizadas por nuestro cliente Laura Romero son {'camisa': {'cantidad': 27, 'coste': 675}, 'blusa': {'cantidad': 5, 'coste': 50}}\n",
      "Las compras realizadas por nuestro cliente Elena Perez son {'camisa': {'cantidad': 2, 'coste': 40}, 'blusa': {'cantidad': 3, 'coste': 15}}\n",
      "cliente Marina Jimenez no tiene compras\n",
      "cliente no encontrado\n"
     ]
    }
   ],
   "source": [
    "# compruebo que me muestra las compras asociadas al cliente, y, en caso de no encontrar al cliente o de que el cliente no tenga compras muestra mensaje indicandolo\n",
    "ropa.ver_compras_cliente (\"Laura Romero\")\n",
    "ropa.ver_compras_cliente (\"Elena Perez\")\n",
    "ropa.ver_compras_cliente (\"Marina Jimenez\")\n",
    "ropa.ver_compras_cliente (\"Pepe Ramirez\")\n",
    "\n",
    "\n"
   ]
  },
  {
   "cell_type": "code",
   "execution_count": 94,
   "metadata": {},
   "outputs": [
    {
     "name": "stdout",
     "output_type": "stream",
     "text": [
      "Las compras realizadas por nuestro cliente Laura Romero son {'camisa': {'cantidad': 27, 'coste': 675}, 'blusa': {'cantidad': 5, 'coste': 50}}\n",
      "{'camisa': {'cantidad': 27, 'coste': 675}, 'blusa': {'cantidad': 5, 'coste': 50}}\n",
      "Las compras realizadas por nuestro cliente Elena Perez son {'camisa': {'cantidad': 2, 'coste': 40}, 'blusa': {'cantidad': 3, 'coste': 15}}\n",
      "{'camisa': {'cantidad': 2, 'coste': 40}, 'blusa': {'cantidad': 3, 'coste': 15}}\n",
      "cliente Marina Jimenez no tiene compras\n",
      "{}\n",
      "El total de ventas de la empresa ha sido de 780.0\n"
     ]
    }
   ],
   "source": [
    "ropa.ver_compras_totales()\n",
    "\n",
    "# aqui me muestra las compras realizadas por el cliente y el coste total (el beneficio de ventas total)"
   ]
  }
 ],
 "metadata": {
  "kernelspec": {
   "display_name": "Python 3",
   "language": "python",
   "name": "python3"
  },
  "language_info": {
   "codemirror_mode": {
    "name": "ipython",
    "version": 3
   },
   "file_extension": ".py",
   "mimetype": "text/x-python",
   "name": "python",
   "nbconvert_exporter": "python",
   "pygments_lexer": "ipython3",
   "version": "3.11.9"
  }
 },
 "nbformat": 4,
 "nbformat_minor": 2
}
